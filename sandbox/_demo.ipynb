{
 "cells": [
  {
   "attachments": {},
   "cell_type": "markdown",
   "metadata": {},
   "source": [
    "# Model"
   ]
  },
  {
   "cell_type": "code",
   "execution_count": 1,
   "metadata": {},
   "outputs": [],
   "source": [
    "m = {\n",
    "    ## Variables\n",
    "    'total_emission_sates': 3, # valores observaveis\n",
    "    'total_hidden_sates': 2, # estados ocultos \n",
    "    \n",
    "    ## Probabilities\n",
    "    'transition_prob': [ # nxn\n",
    "        [.75, .25],\n",
    "        [.35, .65]\n",
    "    ],\n",
    "    'emission_prob': [ # nxm\n",
    "        [.7, .2, .1],\n",
    "        [.3, .1, .6]\n",
    "    ],\n",
    "    'inital_prab': [.8, .2] # 1xn\n",
    "}"
   ]
  },
  {
   "attachments": {},
   "cell_type": "markdown",
   "metadata": {},
   "source": [
    "# Gerador de Trajetória"
   ]
  },
  {
   "cell_type": "code",
   "execution_count": 2,
   "metadata": {},
   "outputs": [
    {
     "data": {
      "text/plain": [
       "array([0, 0, 0, 1, 0, 0, 0, 2, 2, 2, 2, 2, 1, 0, 1, 2, 1, 1, 0, 2, 1, 1,\n",
       "       0, 1, 0, 0, 2, 0, 0, 2, 2, 0, 2, 2, 0, 0, 0, 2, 0, 1, 0, 0, 0, 0,\n",
       "       0, 1, 2, 1, 0, 0, 0, 2, 0, 1, 0, 0, 2, 1, 2, 0, 1, 0, 1, 0, 0, 0,\n",
       "       0, 2, 2, 2, 0, 1, 0, 0, 0, 2, 0, 0, 0, 0, 1, 0, 1, 2, 0, 0, 0, 0,\n",
       "       1, 0, 1, 0, 2, 0, 1, 2, 0, 0, 0, 0])"
      ]
     },
     "execution_count": 2,
     "metadata": {},
     "output_type": "execute_result"
    }
   ],
   "source": [
    "from sim import generate_trajectory\n",
    "\n",
    "O, S = generate_trajectory(100, **m)\n",
    "O"
   ]
  },
  {
   "attachments": {},
   "cell_type": "markdown",
   "metadata": {},
   "source": [
    "# Forward-Backward"
   ]
  },
  {
   "cell_type": "code",
   "execution_count": 3,
   "metadata": {},
   "outputs": [
    {
     "name": "stdout",
     "output_type": "stream",
     "text": [
      "0.17522399999999994\n",
      "1.092448699841547e-43\n",
      "p:  2.1641190278868652e-44\n"
     ]
    }
   ],
   "source": [
    "from fb import ForwardBackward\n",
    "\n",
    "fb = ForwardBackward(O, **m)\n",
    "\n",
    "print(fb.alpha(2, 0))\n",
    "print(fb.beta(2, 0))\n",
    "\n",
    "print('p: ', fb.p())"
   ]
  },
  {
   "attachments": {},
   "cell_type": "markdown",
   "metadata": {},
   "source": [
    "# Viterbi"
   ]
  },
  {
   "cell_type": "code",
   "execution_count": 4,
   "metadata": {},
   "outputs": [
    {
     "name": "stdout",
     "output_type": "stream",
     "text": [
      "3.8287333471450946e-54\n",
      "[0. 0. 0. 0. 0. 0. 0. 0. 0. 0. 0. 0. 0. 0. 0. 0. 0. 0. 0. 0. 0. 0. 0. 0.\n",
      " 0. 0. 0. 0. 0. 0. 1. 1. 1. 0. 0. 0. 0. 0. 0. 0. 0. 1. 1. 1. 0. 0. 0. 0.\n",
      " 0. 0. 0. 0. 0. 0. 0. 0. 0. 0. 0. 0. 0. 0. 0. 0. 0. 0. 1. 1. 1. 1. 1. 0.\n",
      " 0. 0. 0. 0. 0. 0. 0. 0. 0. 0. 0. 0. 0. 0. 0. 0. 1. 1. 1. 1. 1. 0. 0. 0.\n",
      " 0. 0. 0. 0.]\n"
     ]
    }
   ],
   "source": [
    "from viterbi import Viterbi\n",
    "\n",
    "v = Viterbi(O, **m)\n",
    "\n",
    "print(v.p_star())\n",
    "print(v.q_star())"
   ]
  },
  {
   "cell_type": "code",
   "execution_count": 5,
   "metadata": {},
   "outputs": [
    {
     "name": "stdout",
     "output_type": "stream",
     "text": [
      "taxa acerto: 0.6\n"
     ]
    }
   ],
   "source": [
    "print('taxa acerto:', sum(v.q_star() == S)/len(S))"
   ]
  },
  {
   "attachments": {},
   "cell_type": "markdown",
   "metadata": {},
   "source": [
    "# Expectation Maximization (EM)"
   ]
  },
  {
   "cell_type": "code",
   "execution_count": 6,
   "metadata": {},
   "outputs": [
    {
     "name": "stdout",
     "output_type": "stream",
     "text": [
      "0.9349509120411187\n",
      "0.7829577019287107\n",
      "0.24581496276688164\n"
     ]
    }
   ],
   "source": [
    "from em import ExpectationMaximization\n",
    "\n",
    "em = ExpectationMaximization(O, **m)\n",
    "\n",
    "print(em.estimate_pi(0))\n",
    "print(em.estimate_A(0,0))\n",
    "print(em.estimate_B(0,1))"
   ]
  },
  {
   "attachments": {},
   "cell_type": "markdown",
   "metadata": {},
   "source": [
    "# Inferencia"
   ]
  },
  {
   "cell_type": "code",
   "execution_count": 7,
   "metadata": {},
   "outputs": [
    {
     "name": "stdout",
     "output_type": "stream",
     "text": [
      "(-100.8940871450565, 1)\n",
      "Real {'total_emission_sates': 3, 'total_hidden_sates': 2, 'transition_prob': [[0.75, 0.25], [0.35, 0.65]], 'emission_prob': [[0.7, 0.2, 0.1], [0.3, 0.1, 0.6]], 'inital_prab': [0.8, 0.2]}\n",
      "Esti {'total_emission_sates': 3, 'total_hidden_sates': 2, 'transition_prob': [[0.72, 0.28], [0.78, 0.22]], 'emission_prob': [[0.66, 0.29, 0.06], [0.25, 0.0, 0.75]], 'inital_prab': [0.71, 0.29]}\n"
     ]
    }
   ],
   "source": [
    "from hmm import HiddenMarkovModel\n",
    "\n",
    "hmm = HiddenMarkovModel(3, 2)\n",
    "print(hmm.fit(O))\n",
    "\n",
    "print(\"Real\", m)\n",
    "print(\"Esti\", hmm)"
   ]
  },
  {
   "cell_type": "code",
   "execution_count": 8,
   "metadata": {},
   "outputs": [
    {
     "name": "stdout",
     "output_type": "stream",
     "text": [
      "(-92.02497418685076, 1)\n",
      "Real {'total_emission_sates': 3, 'total_hidden_sates': 2, 'transition_prob': [[0.75, 0.25], [0.35, 0.65]], 'emission_prob': [[0.7, 0.2, 0.1], [0.3, 0.1, 0.6]], 'inital_prab': [0.8, 0.2]}\n",
      "Esti {'total_emission_sates': 3, 'total_hidden_sates': 2, 'transition_prob': [[0.46, 0.54], [0.71, 0.29]], 'emission_prob': [[0.58, 0.14, 0.28], [0.61, 0.09, 0.3]], 'inital_prab': [0.35, 0.65]}\n"
     ]
    }
   ],
   "source": [
    "from hmm import HiddenMarkovModel\n",
    "\n",
    "m_init = {\n",
    "    ## Variables\n",
    "    'total_emission_sates': 3,\n",
    "    'total_hidden_sates': 2, \n",
    "    'transition_prob': [[0.48382712, 0.51617288], [0.72809174, 0.27190826]],\n",
    "    'emission_prob': [[0.29399155, 0.38311672, 0.32289173], [0.33750765, 0.26241723, 0.40007512]],\n",
    "    'inital_prab': [0.44557181, 0.55442819]\n",
    "}\n",
    "\n",
    "O = [0, 1, 0, 0, 0, 0, 0, 2, 0, 0, 2, 1, 0, 0, 0, 0, 0, 2, 0, 2, 2, 0, 0, 0, 2, 2, 0, 0, 0, 2, 2, 1, 0, 1, 1, 0, 0, 0, 2, 0, 0, 2, 2, 2, 1, 0, 0, 0, 0, 1, 2, 2, 0, 2, 0, 0, 0, 0, 2, 0, 0, 0, 0, 2, 0, 0, 2, 0, 0, 2, 0, 0, 0, 1, 0, 1, 0, 0, 1, 0, 0, 0, 2, 0, 2, 0, 1, 1, 2, 2, 2, 2, 2, 0, 2, 0, 2, 0, 0, 0]\n",
    "hmm = HiddenMarkovModel(3, 2, random_state=0)\n",
    "print(hmm.fit(O, initial_model=m_init))\n",
    "\n",
    "print(\"Real\", m)\n",
    "print(\"Esti\", hmm)"
   ]
  },
  {
   "cell_type": "code",
   "execution_count": 9,
   "metadata": {},
   "outputs": [
    {
     "name": "stdout",
     "output_type": "stream",
     "text": [
      "-138.9048944584278\n",
      "[0. 1. 0. 1. 0. 1. 0. 1. 0. 1. 0. 1. 0. 0. 1. 0. 1. 0. 1. 0. 1. 0. 0. 1.\n",
      " 0. 1. 0. 1. 0. 1. 0. 1. 0. 1. 0. 1. 0. 1. 0. 1. 0. 1. 0. 1. 0. 1. 0. 1.\n",
      " 0. 1. 0. 0. 1. 0. 1. 0. 1. 0. 1. 0. 1. 0. 1. 0. 1. 0. 0. 1. 0. 1. 0. 1.\n",
      " 0. 1. 0. 1. 0. 1. 0. 1. 0. 1. 0. 1. 0. 1. 0. 1. 0. 1. 0. 1. 0. 1. 0. 1.\n",
      " 0. 1. 0. 1.]\n"
     ]
    }
   ],
   "source": [
    "import numpy as np\n",
    "print(np.log(hmm.model.p_star()))\n",
    "print(hmm.model.q_star())"
   ]
  }
 ],
 "metadata": {
  "kernelspec": {
   "display_name": "RL",
   "language": "python",
   "name": "python3"
  },
  "language_info": {
   "codemirror_mode": {
    "name": "ipython",
    "version": 3
   },
   "file_extension": ".py",
   "mimetype": "text/x-python",
   "name": "python",
   "nbconvert_exporter": "python",
   "pygments_lexer": "ipython3",
   "version": "3.9.5"
  },
  "orig_nbformat": 4
 },
 "nbformat": 4,
 "nbformat_minor": 2
}
