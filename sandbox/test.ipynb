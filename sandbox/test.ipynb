{
 "cells": [
  {
   "attachments": {},
   "cell_type": "markdown",
   "metadata": {},
   "source": [
    "# Model"
   ]
  },
  {
   "cell_type": "code",
   "execution_count": 26,
   "metadata": {},
   "outputs": [],
   "source": [
    "m = {\n",
    "    ## Variables\n",
    "    'total_emission_sates': 3, # valores observaveis\n",
    "    'total_hidden_sates': 2, # estados ocultos \n",
    "    \n",
    "    ## Probabilities\n",
    "    'transition_prob': [ # nxn\n",
    "        [.75, .25],\n",
    "        [.35, .65]\n",
    "    ],\n",
    "    'emission_prob': [ # nxm\n",
    "        [.7, .2, .1],\n",
    "        [.3, .1, .6]\n",
    "    ],\n",
    "    'inital_prab': [.8, .2] # 1xn\n",
    "}"
   ]
  },
  {
   "attachments": {},
   "cell_type": "markdown",
   "metadata": {},
   "source": [
    "# Gerador de Trajetória"
   ]
  },
  {
   "cell_type": "code",
   "execution_count": 27,
   "metadata": {},
   "outputs": [],
   "source": [
    "from sim import generate_trajectory\n",
    "\n",
    "O, S = generate_trajectory(100, **m)"
   ]
  },
  {
   "cell_type": "code",
   "execution_count": 33,
   "metadata": {},
   "outputs": [],
   "source": [
    "m_init = {\n",
    "    'total_emission_sates': 3,\n",
    "    'total_hidden_sates': 2,\n",
    "    'transition_prob': [\n",
    "        [.1, .9],\n",
    "        [.9, .1]\n",
    "    ],\n",
    "    'emission_prob': [\n",
    "        [.35, .3, .35],\n",
    "        [.35, .3, .35]\n",
    "    ],\n",
    "    'inital_prab': [.5, .5]\n",
    "}"
   ]
  },
  {
   "cell_type": "code",
   "execution_count": 34,
   "metadata": {},
   "outputs": [
    {
     "name": "stdout",
     "output_type": "stream",
     "text": [
      "Real {'total_emission_sates': 3, 'total_hidden_sates': 2, 'transition_prob': [[0.75, 0.25], [0.35, 0.65]], 'emission_prob': [[0.7, 0.2, 0.1], [0.3, 0.1, 0.6]], 'inital_prab': [0.8, 0.2]}\n",
      "Esti {'total_emission_sates': 3, 'total_hidden_sates': 2, 'transition_prob': [[0.1, 0.9], [0.9, 0.1]], 'emission_prob': [[0.53, 0.19, 0.28], [0.53, 0.19, 0.28]], 'inital_prab': [0.5, 0.5]}\n"
     ]
    },
    {
     "data": {
      "text/plain": [
       "-100.8454802914786"
      ]
     },
     "execution_count": 34,
     "metadata": {},
     "output_type": "execute_result"
    }
   ],
   "source": [
    "from hmm import HiddenMarkovModel\n",
    "import numpy as np\n",
    "\n",
    "hmm = HiddenMarkovModel(3, 2, random_state=0)\n",
    "hmm.fit(O, initial_model=m_init)\n",
    "model = hmm.get_model()\n",
    "\n",
    "print(\"Real\", m)\n",
    "print(\"Esti\", model)\n",
    "np.log(hmm.model.p())"
   ]
  },
  {
   "cell_type": "code",
   "execution_count": 36,
   "metadata": {},
   "outputs": [
    {
     "name": "stderr",
     "output_type": "stream",
     "text": [
      "Even though the 'startprob_' attribute is set, it will be overwritten during initialization because 'init_params' contains 's'\n"
     ]
    },
    {
     "name": "stdout",
     "output_type": "stream",
     "text": [
      "[[0.1 0.9]\n",
      " [0.9 0.1]]\n",
      "[[0.52726017 0.19125721 0.28148262]\n",
      " [0.53273615 0.18874448 0.27851938]]\n",
      "[0.44298989 0.55701011]\n"
     ]
    },
    {
     "data": {
      "text/plain": [
       "-100.84417933551052"
      ]
     },
     "execution_count": 36,
     "metadata": {},
     "output_type": "execute_result"
    }
   ],
   "source": [
    "import numpy as np\n",
    "from hmmlearn import hmm\n",
    "\n",
    "remodel = hmm.CategoricalHMM(n_components=2, n_features=3, random_state=0, n_iter=100, init_params=\"mcs\")\n",
    "remodel.transmat_ = m_init['transition_prob']\n",
    "remodel.emissionprob_ = m_init['emission_prob']\n",
    "remodel.startprob_ = m_init['inital_prab']\n",
    "\n",
    "\n",
    "\n",
    "remodel.fit([O])\n",
    "print(np.round_(remodel.transmat_, 2))\n",
    "print(remodel.emissionprob_)\n",
    "print(remodel.startprob_)\n",
    "\n",
    "remodel.score([O])"
   ]
  },
  {
   "cell_type": "code",
   "execution_count": null,
   "metadata": {},
   "outputs": [],
   "source": []
  }
 ],
 "metadata": {
  "kernelspec": {
   "display_name": "RL",
   "language": "python",
   "name": "python3"
  },
  "language_info": {
   "codemirror_mode": {
    "name": "ipython",
    "version": 3
   },
   "file_extension": ".py",
   "mimetype": "text/x-python",
   "name": "python",
   "nbconvert_exporter": "python",
   "pygments_lexer": "ipython3",
   "version": "3.9.5"
  },
  "orig_nbformat": 4
 },
 "nbformat": 4,
 "nbformat_minor": 2
}
