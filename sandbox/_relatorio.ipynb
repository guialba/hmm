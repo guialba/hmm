{
 "cells": [
  {
   "attachments": {},
   "cell_type": "markdown",
   "metadata": {},
   "source": [
    "# Model"
   ]
  },
  {
   "attachments": {},
   "cell_type": "markdown",
   "metadata": {},
   "source": [
    "### Modelo de Cadeia de Markov Oculta: \n",
    "\n",
    "$m = (E, H, a, b, \\pi)$ \n",
    "<br><br>\n",
    "$ M = $ Tamanho do Conjunto de estados de Emissão <br>\n",
    "$ N = $ Tamanho do Conjunto de estados Ocultos <br>\n",
    "$ a = $ Matriz de Transição dos Estados Ocultos <br>\n",
    "$ b = $ Matriz de Emissão <br>\n",
    "$ \\pi = $ Distribuição Inicial dos Estados Ocultos <br>\n",
    "\n"
   ]
  },
  {
   "cell_type": "code",
   "execution_count": null,
   "metadata": {},
   "outputs": [],
   "source": [
    "m = {\n",
    "    ## Variáveis\n",
    "    'total_emission_sates': 3,\n",
    "    'total_hidden_sates': 2,\n",
    "    \n",
    "    ## Probabilidades\n",
    "    'transition_prob': [ #nxn\n",
    "        [.75, .25],\n",
    "        [.35, .65]\n",
    "    ],\n",
    "    'emission_prob': [ #nxm\n",
    "        [.7, .2, .1],\n",
    "        [.3, .1, .6]\n",
    "    ],\n",
    "    'inital_prab': [.8, .2] #1xn\n",
    "}"
   ]
  },
  {
   "attachments": {},
   "cell_type": "markdown",
   "metadata": {},
   "source": [
    "# Gerador de Trajetória"
   ]
  },
  {
   "attachments": {},
   "cell_type": "markdown",
   "metadata": {},
   "source": [
    "### Função Geradora de Trajetória:\n",
    "\n",
    "$O(m) = [O_1, O_2, O_3, ..., O_{T-1}, O_T]$\n",
    "\n",
    "``` \n",
    "Initialize t <- 0, s[0] ~ pi(.)\n",
    "for  t <- 0,..., T-1  do\n",
    "    Draw O[t] ~ b(.|s[t])\n",
    "    Draw s[t+1] ~ a(.|s[t])\n",
    "```"
   ]
  },
  {
   "cell_type": "code",
   "execution_count": 2,
   "metadata": {},
   "outputs": [
    {
     "data": {
      "text/plain": [
       "array([0, 0, 0, 1, 0, 0, 0, 2, 2, 2, 2, 2, 1, 0, 1, 2, 1, 1, 0, 2, 1, 1,\n",
       "       0, 1, 0, 0, 2, 0, 0, 2, 2, 0, 2, 2, 0, 0, 0, 2, 0, 1, 0, 0, 0, 0,\n",
       "       0, 1, 2, 1, 0, 0, 0, 2, 0, 1, 0, 0, 2, 1, 2, 0, 1, 0, 1, 0, 0, 0,\n",
       "       0, 2, 2, 2, 0, 1, 0, 0, 0, 2, 0, 0, 0, 0, 1, 0, 1, 2, 0, 0, 0, 0,\n",
       "       1, 0, 1, 0, 2, 0, 1, 2, 0, 0, 0, 0])"
      ]
     },
     "execution_count": 2,
     "metadata": {},
     "output_type": "execute_result"
    }
   ],
   "source": [
    "from sim import generate_trajectory\n",
    "\n",
    "O, S = generate_trajectory(100, **m)\n",
    "O"
   ]
  },
  {
   "attachments": {},
   "cell_type": "markdown",
   "metadata": {},
   "source": [
    "# Forward-Backward"
   ]
  },
  {
   "attachments": {},
   "cell_type": "markdown",
   "metadata": {},
   "source": [
    "#### Forward Variable: \n",
    "$\\alpha_0(i) = \\pi_i b_i(O_0), \\;\\;\\;\\;\\; 1\\leq i \\leq N $ <br>\n",
    "$\\alpha_{t+1}(j) = b_j(O_{t+1}) \\sum_{i=1}^N \\alpha_t(i)a_{ij}, \\;\\;\\;\\;\\; 0\\leq t \\leq T-2 \\;\\;\\; 1\\leq j \\leq N $ <br>\n",
    "\n",
    "```\n",
    "Function Alpha(t,i)\n",
    "  if t, i not in _alpha then \n",
    "    if t == 0 then\n",
    "      _alpha[t, i] <- pi[i] * b[i][O[t]]\n",
    "    else\n",
    "      sum <- 0\n",
    "      for j in N do\n",
    "        sum <- sum + (Alpha(t-1, j) * a[j][i])\n",
    "      _alpha[t, i] <- sum * b[i][O[t]]\n",
    "  \n",
    "  return _alpha[t, i]\n",
    "```\n",
    "#### Backward Variable:\n",
    "$\\beta_{T-1}(i) = 1, \\;\\;\\;\\;\\; 1\\leq i \\leq N $ <br>\n",
    "$\\beta_t(i) = \\sum_{j=1}^N a_{ij}b_j(O_{t+1})\\beta_{t+1}(j), \\;\\;\\;\\;\\; 0\\leq t \\leq T-2 \\;\\;\\; 1\\leq j \\leq N $ <br>\n",
    "\n",
    "```\n",
    "Function Beta(t,i)\n",
    "  if t, i not in _beta then \n",
    "    if t == T-1 then\n",
    "      _beta[t, i] <- 1\n",
    "    else\n",
    "      sum <- 0\n",
    "      for j in N do\n",
    "        sum <- sum + (a[i][j] * b[j][O[t+1]] * Beta(t+1, j))\n",
    "      _beta[t, i] <- sum\n",
    "  \n",
    "  return _beta[t, i]\n",
    "```\n"
   ]
  },
  {
   "cell_type": "code",
   "execution_count": 3,
   "metadata": {},
   "outputs": [
    {
     "name": "stdout",
     "output_type": "stream",
     "text": [
      "0.17522399999999994\n",
      "1.092448699841547e-43\n",
      "p:  2.1641190278868652e-44\n"
     ]
    }
   ],
   "source": [
    "from fb import ForwardBackward\n",
    "\n",
    "fb = ForwardBackward(O, **m)\n",
    "\n",
    "print(fb.alpha(2, 0))\n",
    "print(fb.beta(2, 0))\n",
    "\n",
    "print('p: ', fb.p())"
   ]
  },
  {
   "attachments": {},
   "cell_type": "markdown",
   "metadata": {},
   "source": [
    "# Viterbi"
   ]
  },
  {
   "attachments": {},
   "cell_type": "markdown",
   "metadata": {},
   "source": [
    "$\\delta_0(i) = \\pi_i b_i(O_0), \\;\\;\\;\\;\\; 1\\leq i \\leq N $ <br>\n",
    "$\\delta_t(j) = b_j(O_t) max_{1 \\leq i \\leq N}[a_{ij} \\delta_{t-1}(i)], \\;\\;\\;\\;\\; 1\\leq t \\leq T-1 \\;\\;\\; 1\\leq j \\leq N $ <br>\n",
    "\n",
    "```\n",
    "Function Delta(t,i)\n",
    "  if t, i not in _delta then \n",
    "    if t == 0 then\n",
    "      _delta[t, i] <- pi[i] * b[i][O[t]]\n",
    "    else\n",
    "      max <- -Infinity\n",
    "      for j in N do\n",
    "        value <- Delta(t-1, j) * a[j][i]\n",
    "        if value > max then\n",
    "          max <- value\n",
    "      _delta[t, i] <- max * b[i][O[t]]\n",
    "  \n",
    "  return _delta[t, i]\n",
    "```\n",
    "\n",
    "$\\psi_0(i) = 0, \\;\\;\\;\\;\\; 1\\leq i \\leq N $ <br>\n",
    "$\\psi_t(j) = argmax_{1 \\leq i \\leq N}[a_{ij} \\delta_{t-1}(i)], \\;\\;\\;\\;\\; 1\\leq t \\leq T-1 \\;\\;\\; 1\\leq j \\leq N $ <br>\n",
    "\n",
    "```\n",
    "Function Psi(t,i)\n",
    "  if t, i not in _psi then \n",
    "    if t == 0 then\n",
    "      _psi[t, i] <- 0\n",
    "    else\n",
    "      max <- -Infinity\n",
    "      argmax <- 0\n",
    "      for j in N do\n",
    "        value <- Psi(t-1, j) * a[j][i]\n",
    "        if value > max then\n",
    "          argmax <- j\n",
    "      _psi[t, i] <- argmax\n",
    "  \n",
    "  return _psi[t, i]\n",
    "```\n",
    "\n",
    "$P^* = max_{1 \\leq i \\leq N}[\\delta_T(i)]$ <br>\n",
    "$q_{T-1}^* = argmax_{1 \\leq i \\leq N}[\\delta_T(i)]$ <br>\n",
    "$q_{t}^* = \\psi_{t+1}(q_{t+1}^*), \\;\\;\\;\\;\\; 0 \\leq t \\leq T-2$ <br>\n",
    "\n",
    "```\n",
    "Function P()\n",
    "  max <- -Infinity\n",
    "  for i in N do\n",
    "    value <- Delta(T-1, i)\n",
    "    if value > max then\n",
    "      max <- value\n",
    "  return max\n",
    "\n",
    "Function q(t)\n",
    "  if t = T-1 then\n",
    "    argmax <- 0\n",
    "    max <- -Infinity\n",
    "    for i in N do\n",
    "      value <- Delta(T-1, i)\n",
    "      if value > max then\n",
    "        argmax <- i\n",
    "    return argmax\n",
    "  else\n",
    "    return Psi(t+1, q(t+1))\n",
    "```\n",
    "\n"
   ]
  },
  {
   "cell_type": "code",
   "execution_count": 4,
   "metadata": {},
   "outputs": [
    {
     "name": "stdout",
     "output_type": "stream",
     "text": [
      "3.8287333471450946e-54\n",
      "[0. 0. 0. 0. 0. 0. 0. 0. 0. 0. 0. 0. 0. 0. 0. 0. 0. 0. 0. 0. 0. 0. 0. 0.\n",
      " 0. 0. 0. 0. 0. 0. 1. 1. 1. 0. 0. 0. 0. 0. 0. 0. 0. 1. 1. 1. 0. 0. 0. 0.\n",
      " 0. 0. 0. 0. 0. 0. 0. 0. 0. 0. 0. 0. 0. 0. 0. 0. 0. 0. 1. 1. 1. 1. 1. 0.\n",
      " 0. 0. 0. 0. 0. 0. 0. 0. 0. 0. 0. 0. 0. 0. 0. 0. 1. 1. 1. 1. 1. 0. 0. 0.\n",
      " 0. 0. 0. 0.]\n"
     ]
    }
   ],
   "source": [
    "from viterbi import Viterbi\n",
    "\n",
    "v = Viterbi(O, **m)\n",
    "\n",
    "print(v.p_star())\n",
    "print(v.q_star())"
   ]
  },
  {
   "cell_type": "code",
   "execution_count": 5,
   "metadata": {},
   "outputs": [
    {
     "name": "stdout",
     "output_type": "stream",
     "text": [
      "taxa acerto: 0.6\n"
     ]
    }
   ],
   "source": [
    "print('taxa acerto:', sum(v.q_star() == S)/len(S))"
   ]
  },
  {
   "attachments": {},
   "cell_type": "markdown",
   "metadata": {},
   "source": [
    "# Expectation Maximization (EM)"
   ]
  },
  {
   "attachments": {},
   "cell_type": "markdown",
   "metadata": {},
   "source": [
    "\n",
    "$\\xi_t(i, j) = \\frac{\\alpha_t(i) a_{ij}b_j(O_{t+1})\\beta_{t+1}(j)}{\\sum_{i=1}^N\\sum_{j=1}^N\\alpha_t(i)a_{ij}b_j(O_{t+1})\\beta_{t+1}(j)} $ <br>\n",
    "\n",
    "```\n",
    "Function Xi(t,i,j)\n",
    "  if t, i, j not in _xi then \n",
    "    sum <- 0\n",
    "    for x in N do\n",
    "      for y in N do\n",
    "        sum <- sum + (Alpha(t, x) * a[x][y] * b[y][O[t+1]] * Beta(t+1, y))\n",
    "    _xi[t, i, j] <- (Alpha(t, i) * a[i][j] * b[j][O[t+1]] * Beta(t+1, j)) / sum\n",
    "\n",
    "  return _xi_[t, i, j]\n",
    "```\n",
    "\n",
    "$\\gamma_t(i) = \\sum_{j=1}^N\\xi_t(i, j) $ <br>\n",
    "\n",
    "```\n",
    "Function Gamma(t,i)\n",
    "  if t, i not in _gamma then \n",
    "    sum <- 0\n",
    "    for j in N do\n",
    "      sum <- sum + Xi(t, i, j)\n",
    "    _gamma[t, i] <- sum\n",
    "\n",
    "  return _gamma[t, i]\n",
    "```\n"
   ]
  },
  {
   "attachments": {},
   "cell_type": "markdown",
   "metadata": {},
   "source": [
    "\n",
    "$\\bar{\\pi_i} = \\gamma_1(i) $ <br>\n",
    "\n",
    "```\n",
    "Function estimate_Pi(i)\n",
    "  return Gamma(0, i)\n",
    "```\n",
    "\n",
    "$\\bar{a_{ij}} = \\frac{\\sum_{t=0}^{T-2} \\xi_t(i,j)}{\\sum_{t=1}^{T-2} \\gamma_t(i)} $ <br>\n",
    "\n",
    "```\n",
    "Function estimate_A(i,j)\n",
    "  sum_num <- 0\n",
    "  sum_denom <- 0\n",
    "\n",
    "  for t <- 0,...,T do\n",
    "    sum_num <- sum_num + Xi(t, i, j)\n",
    "  for t <- 0,...,T do\n",
    "    sum_denom <- sum_denom + Gamma(t, i)\n",
    "\n",
    "  return sum_num / sum_denom\n",
    "```\n",
    "$\\bar{b_j(k)} = \\frac{\\sum_{t=0 st O_t = v_K}^{T-2} \\gamma_t(j)}{\\sum_{t=1}^{T-2} \\gamma_t(i)} $ <br>\n",
    "\n",
    "```\n",
    "Function estimate_B(j, k)\n",
    "  sum_num <- 0\n",
    "  sum_denom <- 0\n",
    "\n",
    "  for t <- 0,...,T do\n",
    "    if O[t] = k then\n",
    "      sum_num <- sum_num + Gamma(t, j)\n",
    "  for t <- 0,...,T do\n",
    "    sum_denom <- sum_denom + Gamma(t, j)\n",
    "    \n",
    "  return sum_num / sum_denom\n",
    "```"
   ]
  },
  {
   "cell_type": "code",
   "execution_count": 6,
   "metadata": {},
   "outputs": [
    {
     "name": "stdout",
     "output_type": "stream",
     "text": [
      "0.9349509120411187\n",
      "0.7829577019287107\n",
      "0.24581496276688164\n"
     ]
    }
   ],
   "source": [
    "from em import ExpectationMaximization\n",
    "\n",
    "em = ExpectationMaximization(O, **m)\n",
    "\n",
    "print(em.estimate_pi(0))\n",
    "print(em.estimate_A(0,0))\n",
    "print(em.estimate_B(0,1))"
   ]
  },
  {
   "attachments": {},
   "cell_type": "markdown",
   "metadata": {},
   "source": [
    "# Inferencia"
   ]
  },
  {
   "attachments": {},
   "cell_type": "markdown",
   "metadata": {},
   "source": [
    "```\n",
    "Function fit(O)\n",
    "    m ~ Random\n",
    "    \n",
    "    for n <- 0...100 do\n",
    "        for i in N do \n",
    "            m[pi[i]] <- estimate_Pi(i)\n",
    "\n",
    "            for j in N do\n",
    "                m[a[i,j]] <- estimate_A(i,j)\n",
    "\n",
    "        for k in M do \n",
    "            for j in N do\n",
    "                m[b[j,k]] <- estimate_B(j,k)\n",
    "\n",
    "    return m\n",
    "```"
   ]
  },
  {
   "cell_type": "code",
   "execution_count": 7,
   "metadata": {},
   "outputs": [
    {
     "name": "stdout",
     "output_type": "stream",
     "text": [
      "(-100.8940871450565, 1)\n",
      "Real {'total_emission_sates': 3, 'total_hidden_sates': 2, 'transition_prob': [[0.75, 0.25], [0.35, 0.65]], 'emission_prob': [[0.7, 0.2, 0.1], [0.3, 0.1, 0.6]], 'inital_prab': [0.8, 0.2]}\n",
      "Esti {'total_emission_sates': 3, 'total_hidden_sates': 2, 'transition_prob': [[0.72, 0.28], [0.78, 0.22]], 'emission_prob': [[0.66, 0.29, 0.06], [0.25, 0.0, 0.75]], 'inital_prab': [0.71, 0.29]}\n"
     ]
    }
   ],
   "source": [
    "from hmm import HiddenMarkovModel\n",
    "\n",
    "hmm = HiddenMarkovModel(3, 2)\n",
    "print(hmm.fit(O))\n",
    "\n",
    "print(\"Real\", m)\n",
    "print(\"Esti\", hmm)"
   ]
  }
 ],
 "metadata": {
  "kernelspec": {
   "display_name": "RL",
   "language": "python",
   "name": "python3"
  },
  "language_info": {
   "codemirror_mode": {
    "name": "ipython",
    "version": 3
   },
   "file_extension": ".py",
   "mimetype": "text/x-python",
   "name": "python",
   "nbconvert_exporter": "python",
   "pygments_lexer": "ipython3",
   "version": "3.9.5"
  },
  "orig_nbformat": 4
 },
 "nbformat": 4,
 "nbformat_minor": 2
}
