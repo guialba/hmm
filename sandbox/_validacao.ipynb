{
 "cells": [
  {
   "attachments": {},
   "cell_type": "markdown",
   "metadata": {},
   "source": [
    "[Link para o Relatório do Teste no HmmTeacher](https://hmmteacher.mobilomics.org/hmm/output/HMMTeacher_report_off_747cece15f4441dcb15df264abd59795.html)"
   ]
  },
  {
   "attachments": {},
   "cell_type": "markdown",
   "metadata": {},
   "source": [
    "# Model"
   ]
  },
  {
   "cell_type": "code",
   "execution_count": 7,
   "metadata": {},
   "outputs": [],
   "source": [
    "O = '10110011100011100011100000000111101101001010101'\n",
    "\n",
    "O = [int(i) for i in O]"
   ]
  },
  {
   "cell_type": "code",
   "execution_count": 8,
   "metadata": {},
   "outputs": [],
   "source": [
    "m = {\n",
    "    'total_emission_sates': 2, # valores observaveis\n",
    "    'total_hidden_sates': 2, # estados ocultos \n",
    "    'transition_prob': [ # nxn\n",
    "        [0.521060, 0.478940],\n",
    "        [0.637830, 0.362170]\n",
    "    ],\n",
    "    'emission_prob': [ # nxm\n",
    "        [0.681210, 0.318790],\n",
    "        [0.083730, 0.916270]\n",
    "    ],\n",
    "    'inital_prab': [ 0.12207, 0.87793] # 1xn\n",
    "}"
   ]
  },
  {
   "attachments": {},
   "cell_type": "markdown",
   "metadata": {},
   "source": [
    "# Forward-Backward"
   ]
  },
  {
   "cell_type": "code",
   "execution_count": 9,
   "metadata": {},
   "outputs": [
    {
     "name": "stdout",
     "output_type": "stream",
     "text": [
      "0.06562975251038759\n",
      "2.1115945476588827e-14\n",
      "p:  4.475442323173191e-15\n"
     ]
    }
   ],
   "source": [
    "from fb import ForwardBackward\n",
    "\n",
    "fb = ForwardBackward(O, **m)\n",
    "\n",
    "print(fb.alpha(2, 0))\n",
    "print(fb.beta(2, 0))\n",
    "\n",
    "print('p: ', fb.p())"
   ]
  },
  {
   "attachments": {},
   "cell_type": "markdown",
   "metadata": {},
   "source": [
    "# Viterbi"
   ]
  },
  {
   "cell_type": "code",
   "execution_count": 10,
   "metadata": {},
   "outputs": [
    {
     "name": "stdout",
     "output_type": "stream",
     "text": [
      "7.433071752584974e-20\n",
      "[1. 0. 1. 1. 0. 0. 1. 1. 1. 0. 0. 0. 1. 1. 1. 0. 0. 0. 1. 1. 1. 0. 0. 0.\n",
      " 0. 0. 0. 0. 0. 1. 1. 1. 1. 0. 1. 1. 0. 1. 0. 0. 1. 0. 1. 0. 1. 0. 1.]\n"
     ]
    }
   ],
   "source": [
    "from viterbi import Viterbi\n",
    "\n",
    "v = Viterbi(O, **m)\n",
    "\n",
    "print(v.p_star())\n",
    "print(v.q_star())"
   ]
  },
  {
   "cell_type": "code",
   "execution_count": null,
   "metadata": {},
   "outputs": [],
   "source": []
  }
 ],
 "metadata": {
  "kernelspec": {
   "display_name": "RL",
   "language": "python",
   "name": "python3"
  },
  "language_info": {
   "codemirror_mode": {
    "name": "ipython",
    "version": 3
   },
   "file_extension": ".py",
   "mimetype": "text/x-python",
   "name": "python",
   "nbconvert_exporter": "python",
   "pygments_lexer": "ipython3",
   "version": "3.9.5"
  },
  "orig_nbformat": 4
 },
 "nbformat": 4,
 "nbformat_minor": 2
}
