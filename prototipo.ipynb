{
 "cells": [
  {
   "cell_type": "code",
   "execution_count": 1,
   "metadata": {},
   "outputs": [],
   "source": [
    "# Passo 1: Usuário Especifica os seguintes parâmetros: \n",
    "\n",
    "# Número de regimes (M)\n",
    "# Amostra (Y_1_n)\n",
    "# Modelo observacional\n",
    "# Ordem da cadeia oculta\n",
    "\n",
    "# Passo 2: Estimar os parâmetros do modelo (P,Q,PI) via EM ou GD\n",
    "\n",
    "# Passo 3: Algoritmo de Viterbi para encontar os valores dos regimes\n",
    "\n",
    "# Passo 4: Passar como output os parâmetros estimados e os regimes encontrados\n"
   ]
  },
  {
   "cell_type": "code",
   "execution_count": 2,
   "metadata": {},
   "outputs": [],
   "source": [
    "# A variável observável Y é discreta, assume valores num conjunto enumerável\n",
    "# Temos N estados possíveis para a variável X oculta\n",
    "# X é cadeia de markov de ordem 1 (generalizamos para ordem k?)\n",
    "# Q é um dicionário mapeando a função de probabilidade de Y de acordo com cada estado da variável X"
   ]
  },
  {
   "cell_type": "code",
   "execution_count": 2,
   "metadata": {},
   "outputs": [],
   "source": [
    "# Função de probabilidade da distribuição de Poisson\n",
    "def poisson(x,lambda_param):\n",
    "\n",
    "    import numpy as np\n",
    "    import math\n",
    "\n",
    "    return (np.exp(-lambda_param) * (lambda_param ** x))/math.factorial(x)\n",
    "\n",
    "# Distribuição de Y no regime 1 (Poisson com lambda = 5)\n",
    "def dist_Y_1(x):\n",
    "\n",
    "    return poisson(x,lambda_param=5)\n",
    "\n",
    "# Distribuição de Y no regime 2 (Poisson com lambda = 10)\n",
    "def dist_Y_2(x):\n",
    "\n",
    "    return poisson(x,lambda_param=10)\n",
    "\n",
    "# Dicionário de distribuições de Y\n",
    "Q = {1:dist_Y_1,\n",
    "     2:dist_Y_2}\n",
    "\n",
    "# Distribuição inicial da cadeia latente X\n",
    "def pi(x):\n",
    "\n",
    "    if x == 1 or x == 2:\n",
    "        return 1/2\n",
    "    \n",
    "    else:\n",
    "        return 0\n",
    "    \n",
    "# Matriz de transição\n",
    "import numpy as np\n",
    "mat_trans = np.array([[0.5,0.5],\n",
    "                      [0.5,0.5]])  "
   ]
  },
  {
   "attachments": {},
   "cell_type": "markdown",
   "metadata": {},
   "source": [
    "# Alpha (Forward Variable)"
   ]
  },
  {
   "cell_type": "code",
   "execution_count": 3,
   "metadata": {},
   "outputs": [],
   "source": [
    "# k\n",
    "# estado: estado da cdeia de markov oculta (N é o número de estados)\n",
    "# pi : distribuição inicial da cadeia não observável X\n",
    "# mat_trans: matriz de transição NxN da cadeia não observável X\n",
    "# sample: amostra da variável observável Y (ex: [1,5,10,7])\n",
    "\n",
    "def alpha(k,\n",
    "          estado,\n",
    "          Q,\n",
    "          mat_trans,\n",
    "          pi,\n",
    "          amostra):\n",
    "    \n",
    "    import numpy as np\n",
    "\n",
    "    # Obtendo número de estados (dimensão N da matriz de transição)\n",
    "    N = np.shape(mat_trans)[0]\n",
    "\n",
    "    # Caso base da recursão (alpha_1(state))\n",
    "    if k == 1:\n",
    "\n",
    "        return Q[estado](amostra[1]) * pi(estado)\n",
    "    \n",
    "    # Regra geral\n",
    "    else:\n",
    "        \n",
    "        # Inicializando soma\n",
    "        soma = 0\n",
    "\n",
    "        # Iterando para cada estado de 1 a N (0 a N-1)\n",
    "        for estado_iter in np.arange(1,N+1):\n",
    "\n",
    "            # Definindo forward variable para (n-1) considerando o estado da iteração atual\n",
    "            alpha_ant = alpha(k=k-1,\n",
    "                              estado=estado_iter,\n",
    "                              Q=Q,\n",
    "                              mat_trans=mat_trans,\n",
    "                              pi=pi,\n",
    "                              amostra=amostra)\n",
    "            \n",
    "            # Definindo parcela da soma\n",
    "            parcela = alpha_ant * Q[estado](amostra[k-1]) * mat_trans[estado_iter-1,estado-1]\n",
    "\n",
    "            # Acrescentando parcela na soma\n",
    "            soma += parcela\n",
    "\n",
    "        return soma\n"
   ]
  },
  {
   "attachments": {},
   "cell_type": "markdown",
   "metadata": {},
   "source": [
    "# Exemplo de chamada da função alpha"
   ]
  },
  {
   "cell_type": "code",
   "execution_count": 4,
   "metadata": {},
   "outputs": [
    {
     "data": {
      "text/plain": [
       "0.0018212319939254747"
      ]
     },
     "execution_count": 4,
     "metadata": {},
     "output_type": "execute_result"
    }
   ],
   "source": [
    "alpha(k=2,\n",
    "      estado=1,\n",
    "      Q=Q,\n",
    "      mat_trans=mat_trans,\n",
    "      pi=pi,\n",
    "      amostra=[1,2,3,4,5])"
   ]
  },
  {
   "attachments": {},
   "cell_type": "markdown",
   "metadata": {},
   "source": [
    "# Usando forward variable para escrever verossimilhança"
   ]
  },
  {
   "cell_type": "code",
   "execution_count": 5,
   "metadata": {},
   "outputs": [],
   "source": [
    "def verossimilhança(Q,\n",
    "                    mat_trans,\n",
    "                    pi,\n",
    "                    amostra):\n",
    "    \n",
    "    # Obtendo número de estados (dimensão N da matriz de transição)\n",
    "    N = np.shape(mat_trans)[0]\n",
    "\n",
    "    # Obtendo tamanho da amostra n\n",
    "    n = len(amostra)\n",
    "    \n",
    "    # Inicializando soma\n",
    "    soma = 0\n",
    "\n",
    "    # Iterando para cada estado de 1 até N\n",
    "    for estado_iter in np.arange(1,N+1):\n",
    "        \n",
    "        # Incrementando soma\n",
    "        soma += alpha(k=n,\n",
    "                      estado=estado_iter,\n",
    "                      Q=Q,\n",
    "                      mat_trans=mat_trans,\n",
    "                      pi=pi,\n",
    "                      amostra=amostra)\n",
    "                      \n",
    "    return soma\n",
    "    "
   ]
  },
  {
   "attachments": {},
   "cell_type": "markdown",
   "metadata": {},
   "source": [
    "# Exemplo de chamada da verossimilhança"
   ]
  },
  {
   "cell_type": "code",
   "execution_count": 6,
   "metadata": {},
   "outputs": [
    {
     "data": {
      "text/plain": [
       "1.4340532207622332e-06"
      ]
     },
     "execution_count": 6,
     "metadata": {},
     "output_type": "execute_result"
    }
   ],
   "source": [
    "verossimilhança(Q=Q,\n",
    "                mat_trans=mat_trans,\n",
    "                pi=pi,\n",
    "                amostra=[1,2,3,4,5])"
   ]
  },
  {
   "attachments": {},
   "cell_type": "markdown",
   "metadata": {},
   "source": [
    "# Delta"
   ]
  },
  {
   "cell_type": "code",
   "execution_count": 7,
   "metadata": {},
   "outputs": [],
   "source": [
    "def delta(t,\n",
    "          estado,\n",
    "          Q,\n",
    "          mat_trans,\n",
    "          pi,\n",
    "          amostra):\n",
    "    \n",
    "    import numpy as np\n",
    "    import pandas as pd\n",
    "    \n",
    "    # Obtendo número de estados (dimensão N da matriz de transição)\n",
    "    N = np.shape(mat_trans)[0]\n",
    "    \n",
    "    # Caso base da recursão (t = 1)\n",
    "    if t == 1:\n",
    "        \n",
    "        return pi(estado) * Q[estado](amostra[t-1])\n",
    "    \n",
    "    # Caso geral (t > 1)\n",
    "    else:\n",
    "        \n",
    "        # Computando delta_(t-1) para todos os estados i de 1 a M\n",
    "        deltas_ant = pd.Series({i:delta(t-1,\n",
    "                                        estado=i,\n",
    "                                        Q=Q,\n",
    "                                        mat_trans=mat_trans,\n",
    "                                        pi=pi,\n",
    "                                        amostra=amostra)\n",
    "                                        \n",
    "                                for i in np.arange(1,N+1)})\n",
    "        \n",
    "        # Computando probabilidades de transição partindo do estado i\n",
    "        probs_i = pd.Series(mat_trans[:,(estado-1)])\n",
    "        probs_i.index = probs_i.index + 1\n",
    "\n",
    "        # Produto entre probabilidades de transição e delta para cada estado i\n",
    "        delta_x_probs = deltas_ant * probs_i\n",
    "        \n",
    "        # Computando valor máximo do produto definindo anteriormente\n",
    "        max_delta_x_probs = delta_x_probs.idxmax()\n",
    "\n",
    "        return max_delta_x_probs * Q[estado](amostra[t-1])"
   ]
  },
  {
   "attachments": {},
   "cell_type": "markdown",
   "metadata": {},
   "source": [
    "# Phi"
   ]
  },
  {
   "cell_type": "code",
   "execution_count": 9,
   "metadata": {},
   "outputs": [],
   "source": [
    "def phi(t,\n",
    "        estado,\n",
    "        Q,\n",
    "        mat_trans,\n",
    "        pi,\n",
    "        amostra):\n",
    "    \n",
    "    import numpy as np\n",
    "    import pandas as pd\n",
    "    \n",
    "    # Obtendo número de estados (dimensão N da matriz de transição)\n",
    "    N = np.shape(mat_trans)[0]\n",
    "    \n",
    "    # Deltas \n",
    "    deltas_ant = pd.Series({i:delta(t-1,\n",
    "                                    estado=i,\n",
    "                                    Q=Q,\n",
    "                                    mat_trans=mat_trans,\n",
    "                                    pi=pi,\n",
    "                                    amostra=amostra)\n",
    "                        \n",
    "                            for i in np.arange(1,N+1)})\n",
    "    \n",
    "    # Computando probabilidades de transição partindo do estado i para i = 1,...,M (coluna estado)\n",
    "    probs_i = pd.Series(mat_trans[:,(estado-1)])\n",
    "    probs_i.index = probs_i.index + 1\n",
    "\n",
    "    # Produto entre probabilidades de transição e delta para cada estado i\n",
    "    delta_x_probs = deltas_ant * probs_i\n",
    "\n",
    "    # Obtendo estado que maximiza produto anterior\n",
    "    return delta_x_probs.idxmax()"
   ]
  },
  {
   "attachments": {},
   "cell_type": "markdown",
   "metadata": {},
   "source": [
    "# Algoritmo de Viterbi"
   ]
  },
  {
   "cell_type": "code",
   "execution_count": 10,
   "metadata": {},
   "outputs": [],
   "source": [
    "def viterbi(Q,\n",
    "            mat_trans,\n",
    "            pi,\n",
    "            amostra):\n",
    "    \n",
    "    import numpy as np\n",
    "    import pandas as pd\n",
    "\n",
    "    # Tamanho da amostra (n)\n",
    "    n = len(amostra)\n",
    "\n",
    "    # Obtendo número de estados (dimensão N da matriz de transição)\n",
    "    N = np.shape(mat_trans)[0]\n",
    "\n",
    "    # Inicializando dicionário para armazenar estados inferidos\n",
    "    x_hat = {}\n",
    "\n",
    "    # Inicializando algoritmo com estado inferido no instante n (última observação da amostra)\n",
    "    x_hat[n] = pd.Series({estado:delta(t=n,\n",
    "                                       estado=estado,\n",
    "                                       Q=Q,\n",
    "                                       mat_trans=mat_trans,\n",
    "                                       pi=pi,\n",
    "                                       amostra=amostra,\n",
    "                                    ) \n",
    "\n",
    "                        for estado in np.arange(1,N+1)}).idxmax()\n",
    "\n",
    "    # Iterando para t de n-1 a 1 (do \"final para o início\" da amostra)\n",
    "    for t in np.arange(n-1,0,-1):\n",
    "        \n",
    "        # Obtendo estado inferido no instante t\n",
    "        x_hat[t] = phi(t+1,\n",
    "                       estado=x_hat[t+1],\n",
    "                       Q=Q,\n",
    "                       mat_trans=mat_trans,\n",
    "                       pi=pi,\n",
    "                       amostra=amostra) \n",
    "        \n",
    "    # Criando série com estados inferidos\n",
    "    x_hat = pd.Series(x_hat).sort_index()\n",
    "    \n",
    "    return x_hat\n",
    "    "
   ]
  },
  {
   "attachments": {},
   "cell_type": "markdown",
   "metadata": {},
   "source": [
    "# Testando Viterbi"
   ]
  },
  {
   "cell_type": "code",
   "execution_count": 41,
   "metadata": {},
   "outputs": [
    {
     "data": {
      "text/plain": [
       "1     1\n",
       "2     1\n",
       "3     1\n",
       "4     1\n",
       "5     1\n",
       "6     2\n",
       "7     2\n",
       "8     2\n",
       "9     2\n",
       "10    2\n",
       "11    2\n",
       "12    2\n",
       "13    2\n",
       "14    2\n",
       "15    2\n",
       "dtype: int64"
      ]
     },
     "execution_count": 41,
     "metadata": {},
     "output_type": "execute_result"
    }
   ],
   "source": [
    "amostra = [5] * 5 + [10] * 10\n",
    "\n",
    "viterbi(Q=Q,\n",
    "        mat_trans=mat_trans,\n",
    "        pi=pi,\n",
    "        amostra=amostra)"
   ]
  },
  {
   "attachments": {},
   "cell_type": "markdown",
   "metadata": {},
   "source": [
    "# Beta (Backward Variable)"
   ]
  },
  {
   "cell_type": "code",
   "execution_count": 12,
   "metadata": {},
   "outputs": [],
   "source": [
    "# k \n",
    "# estado: estado da cadeia de markov oculta (N é o número de estados)\n",
    "# pi : distribuição inicial da cadeia não observável X\n",
    "# mat_trans: matriz de transição NxN da cadeia não observável X\n",
    "# sample: amostra da variável observável Y (ex: [1,5,10,7])\n",
    "\n",
    "def beta(k,\n",
    "         estado,\n",
    "         Q,\n",
    "         mat_trans,\n",
    "         pi,\n",
    "         amostra):\n",
    "    \n",
    "    # Obtendo número de estados (dimensão N da matriz de transição)\n",
    "    N = np.shape(mat_trans)[0]\n",
    "\n",
    "    # Caso base da recursão (beta_k(estado))\n",
    "    if k == len(amostra):\n",
    "        return 1\n",
    "    \n",
    "    # Caso geral\n",
    "    else:\n",
    "\n",
    "        # Inicializa soma\n",
    "        soma = 0\n",
    "\n",
    "        # Iterando sobre os estados (1 a N)\n",
    "        for estado_iter in np.arange(1,N+1):\n",
    "\n",
    "            # Definindo parcela atual da soma\n",
    "            parcela = mat_trans[(estado-1),(estado_iter-1)] * Q[estado_iter](amostra[k]) * beta(k=k+1,\n",
    "                                                                                                estado=estado_iter,\n",
    "                                                                                                Q=Q,\n",
    "                                                                                                mat_trans=mat_trans,\n",
    "                                                                                                pi=pi,\n",
    "                                                                                                amostra=amostra)\n",
    "            \n",
    "            # Incrementando soma\n",
    "            soma += parcela\n",
    "        \n",
    "        return soma"
   ]
  },
  {
   "attachments": {},
   "cell_type": "markdown",
   "metadata": {},
   "source": [
    "# Exemplo de chamada da função beta"
   ]
  },
  {
   "cell_type": "code",
   "execution_count": 13,
   "metadata": {},
   "outputs": [
    {
     "data": {
      "text/plain": [
       "0.0007667432172178277"
      ]
     },
     "execution_count": 13,
     "metadata": {},
     "output_type": "execute_result"
    }
   ],
   "source": [
    "beta(k=2,\n",
    "     estado=1,\n",
    "     Q=Q,\n",
    "     mat_trans=mat_trans,\n",
    "     pi=pi,\n",
    "     amostra=[1,2,3,4,5])"
   ]
  },
  {
   "attachments": {},
   "cell_type": "markdown",
   "metadata": {},
   "source": [
    "# Função gamma"
   ]
  },
  {
   "cell_type": "code",
   "execution_count": 14,
   "metadata": {},
   "outputs": [],
   "source": [
    "def gamma(k,\n",
    "          estado,\n",
    "          Q,\n",
    "          mat_trans,\n",
    "          pi,\n",
    "          amostra):\n",
    "    \n",
    "    import numpy as np\n",
    "    import pandas as pd\n",
    "\n",
    "    # Obtendo número de estados (dimensão N da matriz de transição)\n",
    "    N = np.shape(mat_trans)[0]\n",
    "    \n",
    "    # Obtendo valores das alpha e beta variables\n",
    "    alphas = pd.Series({estado_iter:alpha(k=k,\n",
    "                                          estado=estado_iter,\n",
    "                                          Q=Q,\n",
    "                                          mat_trans=mat_trans,\n",
    "                                          pi=pi,\n",
    "                                          amostra=amostra) for estado_iter in np.arange(1,N+1)})\n",
    "      \n",
    "    betas = pd.Series({estado_iter:beta(k=k,\n",
    "                                        estado=estado_iter,\n",
    "                                        Q=Q,\n",
    "                                        mat_trans=mat_trans,\n",
    "                                        pi=pi,\n",
    "                                        amostra=amostra) for estado_iter in np.arange(1,N+1)})\n",
    "      \n",
    "    # Numerador\n",
    "    num = alphas[estado] * betas[estado]\n",
    "\n",
    "    # Denominador\n",
    "    den = (alphas * betas).sum()\n",
    "\n",
    "    return num/den"
   ]
  },
  {
   "attachments": {},
   "cell_type": "markdown",
   "metadata": {},
   "source": [
    "# Inferência marginal por estado"
   ]
  },
  {
   "cell_type": "code",
   "execution_count": 31,
   "metadata": {},
   "outputs": [],
   "source": [
    "def inf_states_marginal(Q=Q,\n",
    "                        mat_trans=mat_trans,\n",
    "                        pi=pi,\n",
    "                        amostra=amostra):\n",
    "    \n",
    "    import numpy as np\n",
    "    import pandas as pd\n",
    "    \n",
    "    # Obtendo número de estados (dimensão N da matriz de transição)\n",
    "    N = np.shape(mat_trans)[0]\n",
    "\n",
    "    # Tamanho da amostra (n)\n",
    "    n = len(amostra)\n",
    "\n",
    "    # Dicionário com estados inferidos\n",
    "    dic_states = {ind:pd.Series({estado:gamma(k=ind,\n",
    "                                              estado=estado,\n",
    "                                              Q=Q,\n",
    "                                              mat_trans=mat_trans,\n",
    "                                              pi=pi,\n",
    "                                              amostra=amostra)\n",
    "                                \n",
    "                                # Iterando por estado (1 a N)\n",
    "                                for estado in np.arange(1,N+1)}).idxmax()\n",
    "\n",
    "                # Iterando para cada valor na amostra (1 a n)              \n",
    "                for ind in np.arange(1,n+1)}\n",
    "\n",
    "    # Série com estados inferidos\n",
    "    inf_states = pd.Series(dic_states)\n",
    "\n",
    "    return inf_states"
   ]
  },
  {
   "attachments": {},
   "cell_type": "markdown",
   "metadata": {},
   "source": [
    "# Testando inferência marginal"
   ]
  },
  {
   "cell_type": "code",
   "execution_count": 40,
   "metadata": {},
   "outputs": [
    {
     "data": {
      "text/plain": [
       "1     1\n",
       "2     1\n",
       "3     1\n",
       "4     1\n",
       "5     1\n",
       "6     2\n",
       "7     2\n",
       "8     2\n",
       "9     2\n",
       "10    2\n",
       "dtype: int64"
      ]
     },
     "execution_count": 40,
     "metadata": {},
     "output_type": "execute_result"
    }
   ],
   "source": [
    "amostra = [5] * 5 + [10] * 5\n",
    "\n",
    "inf_states_marginal(Q=Q,\n",
    "                    mat_trans=mat_trans,\n",
    "                    pi=pi,\n",
    "                    amostra=amostra)"
   ]
  }
 ],
 "metadata": {
  "kernelspec": {
   "display_name": "base",
   "language": "python",
   "name": "python3"
  },
  "language_info": {
   "codemirror_mode": {
    "name": "ipython",
    "version": 3
   },
   "file_extension": ".py",
   "mimetype": "text/x-python",
   "name": "python",
   "nbconvert_exporter": "python",
   "pygments_lexer": "ipython3",
   "version": "3.10.9"
  },
  "orig_nbformat": 4
 },
 "nbformat": 4,
 "nbformat_minor": 2
}
