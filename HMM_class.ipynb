{
 "cells": [
  {
   "cell_type": "code",
   "execution_count": 1,
   "metadata": {},
   "outputs": [],
   "source": [
    "class HiddenMarkovModel():\n",
    "\n",
    "    # Funções auxiliares\n",
    "    from FuncoesAuxiliares import alpha,beta,gamma,delta,phi\n",
    "\n",
    "    # Funções de inferência para os regimes/estados não observáveis\n",
    "    from InferenciaRegimes import viterbi,inf_states_marginal\n",
    "\n",
    "    # Funções para estimação por máxima verossimilhança\n",
    "    from MaximaVerossimilhanca import verossimilhança\n",
    "\n",
    "    def __init__(self, amostra, N):\n",
    "        \n",
    "        import numpy as np\n",
    "\n",
    "        # Dados observados/amostra\n",
    "        self.amostra = amostra\n",
    "\n",
    "        # Número de regimes (N)\n",
    "        self.N = 2\n",
    "\n",
    "        ######### TIRAR DEPOIS ################################################\n",
    "\n",
    "        # Função de probabilidade da distribuição de Poisson\n",
    "        def poisson(x,lambda_param):\n",
    "\n",
    "            import numpy as np\n",
    "            import math\n",
    "\n",
    "            return (np.exp(-lambda_param) * (lambda_param ** x))/math.factorial(x)\n",
    "\n",
    "        # Distribuição de Y no regime 1 (Poisson com lambda = 5)\n",
    "        def dist_Y_1(x):\n",
    "\n",
    "            return poisson(x,lambda_param=5)\n",
    "\n",
    "        # Distribuição de Y no regime 2 (Poisson com lambda = 10)\n",
    "        def dist_Y_2(x):\n",
    "\n",
    "            return poisson(x,lambda_param=10)\n",
    "\n",
    "        # Dicionário de distribuições de Y\n",
    "        Q = {1:dist_Y_1,\n",
    "             2:dist_Y_2}\n",
    "        \n",
    "        self.Q = Q\n",
    "\n",
    "        # Distribuição inicial da cadeia latente X\n",
    "        def pi(x):\n",
    "\n",
    "            if x == 1 or x == 2:\n",
    "                return 1/2\n",
    "            \n",
    "            else:\n",
    "                return 0\n",
    "            \n",
    "        self.pi = pi\n",
    "            \n",
    "        # Matriz de transição\n",
    "        mat_trans = np.array([[0.5,0.5],\n",
    "                              [0.5,0.5]])  \n",
    "        \n",
    "        self.mat_trans = mat_trans\n",
    "\n",
    "        ################################################################"
   ]
  },
  {
   "cell_type": "code",
   "execution_count": 7,
   "metadata": {},
   "outputs": [],
   "source": [
    "hmm = HiddenMarkovModel(amostra=[1,2,3,10,11,12],\n",
    "                        N = 2)"
   ]
  },
  {
   "cell_type": "code",
   "execution_count": 8,
   "metadata": {},
   "outputs": [
    {
     "data": {
      "text/plain": [
       "2.9676653062929608e-08"
      ]
     },
     "execution_count": 8,
     "metadata": {},
     "output_type": "execute_result"
    }
   ],
   "source": [
    "hmm.verossimilhança(Q=hmm.Q,\n",
    "                    mat_trans=hmm.mat_trans,\n",
    "                    pi=hmm.pi,\n",
    "                    amostra=hmm.amostra)"
   ]
  },
  {
   "cell_type": "code",
   "execution_count": 10,
   "metadata": {},
   "outputs": [
    {
     "data": {
      "text/plain": [
       "0.0018212319939254747"
      ]
     },
     "execution_count": 10,
     "metadata": {},
     "output_type": "execute_result"
    }
   ],
   "source": [
    "hmm.alpha(k=2,\n",
    "          estado=1,\n",
    "          Q=hmm.Q,\n",
    "          mat_trans=hmm.mat_trans,\n",
    "          pi=hmm.pi)"
   ]
  },
  {
   "cell_type": "code",
   "execution_count": 11,
   "metadata": {},
   "outputs": [
    {
     "data": {
      "text/plain": [
       "1.5867174325394603e-05"
      ]
     },
     "execution_count": 11,
     "metadata": {},
     "output_type": "execute_result"
    }
   ],
   "source": [
    "hmm.beta(k=2,\n",
    "         estado=1)"
   ]
  },
  {
   "cell_type": "code",
   "execution_count": 12,
   "metadata": {},
   "outputs": [
    {
     "data": {
      "text/plain": [
       "1    1\n",
       "2    1\n",
       "3    1\n",
       "4    2\n",
       "5    2\n",
       "6    2\n",
       "dtype: int64"
      ]
     },
     "execution_count": 12,
     "metadata": {},
     "output_type": "execute_result"
    }
   ],
   "source": [
    "hmm.viterbi()"
   ]
  },
  {
   "cell_type": "code",
   "execution_count": 13,
   "metadata": {},
   "outputs": [
    {
     "ename": "TypeError",
     "evalue": "alpha() missing 3 required positional arguments: 'Q', 'mat_trans', and 'pi'",
     "output_type": "error",
     "traceback": [
      "\u001b[1;31m---------------------------------------------------------------------------\u001b[0m",
      "\u001b[1;31mTypeError\u001b[0m                                 Traceback (most recent call last)",
      "Cell \u001b[1;32mIn[13], line 1\u001b[0m\n\u001b[1;32m----> 1\u001b[0m hmm\u001b[39m.\u001b[39;49minf_states_marginal()\n",
      "File \u001b[1;32mc:\\Users\\Cartesius\\Documents\\Cadeia de Markov Oculta\\InferenciaRegimes.py:41\u001b[0m, in \u001b[0;36minf_states_marginal\u001b[1;34m(self)\u001b[0m\n\u001b[0;32m     38\u001b[0m n \u001b[39m=\u001b[39m \u001b[39mlen\u001b[39m(\u001b[39mself\u001b[39m\u001b[39m.\u001b[39mamostra)\n\u001b[0;32m     40\u001b[0m \u001b[39m# Dicionário com estados inferidos\u001b[39;00m\n\u001b[1;32m---> 41\u001b[0m dic_states \u001b[39m=\u001b[39m {ind:pd\u001b[39m.\u001b[39mSeries({estado:\u001b[39mself\u001b[39m\u001b[39m.\u001b[39mgamma(k\u001b[39m=\u001b[39mind,\n\u001b[0;32m     42\u001b[0m                                                 estado\u001b[39m=\u001b[39mestado)\n\u001b[0;32m     43\u001b[0m                             \n\u001b[0;32m     44\u001b[0m                             \u001b[39m# Iterando por estado (1 a N)\u001b[39;00m\n\u001b[0;32m     45\u001b[0m                             \u001b[39mfor\u001b[39;00m estado \u001b[39min\u001b[39;00m np\u001b[39m.\u001b[39marange(\u001b[39m1\u001b[39m,\u001b[39mself\u001b[39m\u001b[39m.\u001b[39mN\u001b[39m+\u001b[39m\u001b[39m1\u001b[39m)})\u001b[39m.\u001b[39midxmax()\n\u001b[0;32m     46\u001b[0m \n\u001b[0;32m     47\u001b[0m                 \u001b[39m# Iterando para cada valor na amostra (1 a n)              \u001b[39;00m\n\u001b[0;32m     48\u001b[0m             \u001b[39mfor\u001b[39;00m ind \u001b[39min\u001b[39;00m np\u001b[39m.\u001b[39marange(\u001b[39m1\u001b[39m,n\u001b[39m+\u001b[39m\u001b[39m1\u001b[39m)}\n\u001b[0;32m     50\u001b[0m \u001b[39m# Série com estados inferidos\u001b[39;00m\n\u001b[0;32m     51\u001b[0m inf_states \u001b[39m=\u001b[39m pd\u001b[39m.\u001b[39mSeries(dic_states)\n",
      "File \u001b[1;32mc:\\Users\\Cartesius\\Documents\\Cadeia de Markov Oculta\\InferenciaRegimes.py:41\u001b[0m, in \u001b[0;36m<dictcomp>\u001b[1;34m(.0)\u001b[0m\n\u001b[0;32m     38\u001b[0m n \u001b[39m=\u001b[39m \u001b[39mlen\u001b[39m(\u001b[39mself\u001b[39m\u001b[39m.\u001b[39mamostra)\n\u001b[0;32m     40\u001b[0m \u001b[39m# Dicionário com estados inferidos\u001b[39;00m\n\u001b[1;32m---> 41\u001b[0m dic_states \u001b[39m=\u001b[39m {ind:pd\u001b[39m.\u001b[39mSeries({estado:\u001b[39mself\u001b[39m\u001b[39m.\u001b[39mgamma(k\u001b[39m=\u001b[39mind,\n\u001b[0;32m     42\u001b[0m                                                 estado\u001b[39m=\u001b[39mestado)\n\u001b[0;32m     43\u001b[0m                             \n\u001b[0;32m     44\u001b[0m                             \u001b[39m# Iterando por estado (1 a N)\u001b[39;00m\n\u001b[0;32m     45\u001b[0m                             \u001b[39mfor\u001b[39;00m estado \u001b[39min\u001b[39;00m np\u001b[39m.\u001b[39marange(\u001b[39m1\u001b[39m,\u001b[39mself\u001b[39m\u001b[39m.\u001b[39mN\u001b[39m+\u001b[39m\u001b[39m1\u001b[39m)})\u001b[39m.\u001b[39midxmax()\n\u001b[0;32m     46\u001b[0m \n\u001b[0;32m     47\u001b[0m                 \u001b[39m# Iterando para cada valor na amostra (1 a n)              \u001b[39;00m\n\u001b[0;32m     48\u001b[0m             \u001b[39mfor\u001b[39;00m ind \u001b[39min\u001b[39;00m np\u001b[39m.\u001b[39marange(\u001b[39m1\u001b[39m,n\u001b[39m+\u001b[39m\u001b[39m1\u001b[39m)}\n\u001b[0;32m     50\u001b[0m \u001b[39m# Série com estados inferidos\u001b[39;00m\n\u001b[0;32m     51\u001b[0m inf_states \u001b[39m=\u001b[39m pd\u001b[39m.\u001b[39mSeries(dic_states)\n",
      "File \u001b[1;32mc:\\Users\\Cartesius\\Documents\\Cadeia de Markov Oculta\\InferenciaRegimes.py:41\u001b[0m, in \u001b[0;36m<dictcomp>\u001b[1;34m(.0)\u001b[0m\n\u001b[0;32m     38\u001b[0m n \u001b[39m=\u001b[39m \u001b[39mlen\u001b[39m(\u001b[39mself\u001b[39m\u001b[39m.\u001b[39mamostra)\n\u001b[0;32m     40\u001b[0m \u001b[39m# Dicionário com estados inferidos\u001b[39;00m\n\u001b[1;32m---> 41\u001b[0m dic_states \u001b[39m=\u001b[39m {ind:pd\u001b[39m.\u001b[39mSeries({estado:\u001b[39mself\u001b[39;49m\u001b[39m.\u001b[39;49mgamma(k\u001b[39m=\u001b[39;49mind,\n\u001b[0;32m     42\u001b[0m                                                 estado\u001b[39m=\u001b[39;49mestado)\n\u001b[0;32m     43\u001b[0m                             \n\u001b[0;32m     44\u001b[0m                             \u001b[39m# Iterando por estado (1 a N)\u001b[39;00m\n\u001b[0;32m     45\u001b[0m                             \u001b[39mfor\u001b[39;00m estado \u001b[39min\u001b[39;00m np\u001b[39m.\u001b[39marange(\u001b[39m1\u001b[39m,\u001b[39mself\u001b[39m\u001b[39m.\u001b[39mN\u001b[39m+\u001b[39m\u001b[39m1\u001b[39m)})\u001b[39m.\u001b[39midxmax()\n\u001b[0;32m     46\u001b[0m \n\u001b[0;32m     47\u001b[0m                 \u001b[39m# Iterando para cada valor na amostra (1 a n)              \u001b[39;00m\n\u001b[0;32m     48\u001b[0m             \u001b[39mfor\u001b[39;00m ind \u001b[39min\u001b[39;00m np\u001b[39m.\u001b[39marange(\u001b[39m1\u001b[39m,n\u001b[39m+\u001b[39m\u001b[39m1\u001b[39m)}\n\u001b[0;32m     50\u001b[0m \u001b[39m# Série com estados inferidos\u001b[39;00m\n\u001b[0;32m     51\u001b[0m inf_states \u001b[39m=\u001b[39m pd\u001b[39m.\u001b[39mSeries(dic_states)\n",
      "File \u001b[1;32mc:\\Users\\Cartesius\\Documents\\Cadeia de Markov Oculta\\FuncoesAuxiliares.py:81\u001b[0m, in \u001b[0;36mgamma\u001b[1;34m(self, k, estado)\u001b[0m\n\u001b[0;32m     78\u001b[0m \u001b[39mimport\u001b[39;00m \u001b[39mpandas\u001b[39;00m \u001b[39mas\u001b[39;00m \u001b[39mpd\u001b[39;00m\n\u001b[0;32m     80\u001b[0m \u001b[39m# Obtendo valores das alpha e beta variables\u001b[39;00m\n\u001b[1;32m---> 81\u001b[0m alphas \u001b[39m=\u001b[39m pd\u001b[39m.\u001b[39mSeries({estado_iter:\u001b[39mself\u001b[39m\u001b[39m.\u001b[39malpha(k\u001b[39m=\u001b[39mk,\n\u001b[0;32m     82\u001b[0m                                             estado\u001b[39m=\u001b[39mestado_iter) \u001b[39mfor\u001b[39;00m estado_iter \u001b[39min\u001b[39;00m np\u001b[39m.\u001b[39marange(\u001b[39m1\u001b[39m,\u001b[39mself\u001b[39m\u001b[39m.\u001b[39mN\u001b[39m+\u001b[39m\u001b[39m1\u001b[39m)})\n\u001b[0;32m     84\u001b[0m betas \u001b[39m=\u001b[39m pd\u001b[39m.\u001b[39mSeries({estado_iter:\u001b[39mself\u001b[39m\u001b[39m.\u001b[39mbeta(k\u001b[39m=\u001b[39mk,\n\u001b[0;32m     85\u001b[0m                                             estado\u001b[39m=\u001b[39mestado_iter) \u001b[39mfor\u001b[39;00m estado_iter \u001b[39min\u001b[39;00m np\u001b[39m.\u001b[39marange(\u001b[39m1\u001b[39m,\u001b[39mself\u001b[39m\u001b[39m.\u001b[39mN\u001b[39m+\u001b[39m\u001b[39m1\u001b[39m)})\n\u001b[0;32m     87\u001b[0m \u001b[39m# Numerador\u001b[39;00m\n",
      "File \u001b[1;32mc:\\Users\\Cartesius\\Documents\\Cadeia de Markov Oculta\\FuncoesAuxiliares.py:81\u001b[0m, in \u001b[0;36m<dictcomp>\u001b[1;34m(.0)\u001b[0m\n\u001b[0;32m     78\u001b[0m \u001b[39mimport\u001b[39;00m \u001b[39mpandas\u001b[39;00m \u001b[39mas\u001b[39;00m \u001b[39mpd\u001b[39;00m\n\u001b[0;32m     80\u001b[0m \u001b[39m# Obtendo valores das alpha e beta variables\u001b[39;00m\n\u001b[1;32m---> 81\u001b[0m alphas \u001b[39m=\u001b[39m pd\u001b[39m.\u001b[39mSeries({estado_iter:\u001b[39mself\u001b[39;49m\u001b[39m.\u001b[39;49malpha(k\u001b[39m=\u001b[39;49mk,\n\u001b[0;32m     82\u001b[0m                                             estado\u001b[39m=\u001b[39;49mestado_iter) \u001b[39mfor\u001b[39;00m estado_iter \u001b[39min\u001b[39;00m np\u001b[39m.\u001b[39marange(\u001b[39m1\u001b[39m,\u001b[39mself\u001b[39m\u001b[39m.\u001b[39mN\u001b[39m+\u001b[39m\u001b[39m1\u001b[39m)})\n\u001b[0;32m     84\u001b[0m betas \u001b[39m=\u001b[39m pd\u001b[39m.\u001b[39mSeries({estado_iter:\u001b[39mself\u001b[39m\u001b[39m.\u001b[39mbeta(k\u001b[39m=\u001b[39mk,\n\u001b[0;32m     85\u001b[0m                                             estado\u001b[39m=\u001b[39mestado_iter) \u001b[39mfor\u001b[39;00m estado_iter \u001b[39min\u001b[39;00m np\u001b[39m.\u001b[39marange(\u001b[39m1\u001b[39m,\u001b[39mself\u001b[39m\u001b[39m.\u001b[39mN\u001b[39m+\u001b[39m\u001b[39m1\u001b[39m)})\n\u001b[0;32m     87\u001b[0m \u001b[39m# Numerador\u001b[39;00m\n",
      "\u001b[1;31mTypeError\u001b[0m: alpha() missing 3 required positional arguments: 'Q', 'mat_trans', and 'pi'"
     ]
    }
   ],
   "source": [
    "hmm.inf_states_marginal()"
   ]
  }
 ],
 "metadata": {
  "kernelspec": {
   "display_name": "base",
   "language": "python",
   "name": "python3"
  },
  "language_info": {
   "codemirror_mode": {
    "name": "ipython",
    "version": 3
   },
   "file_extension": ".py",
   "mimetype": "text/x-python",
   "name": "python",
   "nbconvert_exporter": "python",
   "pygments_lexer": "ipython3",
   "version": "3.10.9"
  },
  "orig_nbformat": 4
 },
 "nbformat": 4,
 "nbformat_minor": 2
}
